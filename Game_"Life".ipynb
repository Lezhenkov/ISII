{
  "nbformat": 4,
  "nbformat_minor": 0,
  "metadata": {
    "colab": {
      "provenance": [],
      "authorship_tag": "ABX9TyO21z3hwGtt9BTYDAEaZt3m",
      "include_colab_link": true
    },
    "kernelspec": {
      "name": "python3",
      "display_name": "Python 3"
    },
    "language_info": {
      "name": "python"
    }
  },
  "cells": [
    {
      "cell_type": "markdown",
      "metadata": {
        "id": "view-in-github",
        "colab_type": "text"
      },
      "source": [
        "<a href=\"https://colab.research.google.com/github/Lezhenkov/ISII/blob/main/Game_%22Life%22.ipynb\" target=\"_parent\"><img src=\"https://colab.research.google.com/assets/colab-badge.svg\" alt=\"Open In Colab\"/></a>"
      ]
    },
    {
      "cell_type": "code",
      "source": [
        "!pip install pygame"
      ],
      "metadata": {
        "colab": {
          "base_uri": "https://localhost:8080/"
        },
        "id": "u_qQD0QYhtvJ",
        "outputId": "6da9308f-4c0d-40e6-bcbe-7a16f378e8a7"
      },
      "execution_count": null,
      "outputs": [
        {
          "output_type": "stream",
          "name": "stdout",
          "text": [
            "Looking in indexes: https://pypi.org/simple, https://us-python.pkg.dev/colab-wheels/public/simple/\n",
            "Collecting pygame\n",
            "  Downloading pygame-2.1.2-cp38-cp38-manylinux_2_17_x86_64.manylinux2014_x86_64.whl (21.8 MB)\n",
            "\u001b[K     |████████████████████████████████| 21.8 MB 1.5 MB/s \n",
            "\u001b[?25hInstalling collected packages: pygame\n",
            "Successfully installed pygame-2.1.2\n"
          ]
        }
      ]
    },
    {
      "cell_type": "code",
      "execution_count": null,
      "metadata": {
        "colab": {
          "base_uri": "https://localhost:8080/"
        },
        "id": "yBgrNy6VhfSg",
        "outputId": "f6261898-25ff-4b3e-98e5-fabbaadb0418"
      },
      "outputs": [
        {
          "output_type": "stream",
          "name": "stdout",
          "text": [
            "pygame 2.1.2 (SDL 2.0.16, Python 3.8.16)\n",
            "Hello from the pygame community. https://www.pygame.org/contribute.html\n"
          ]
        }
      ],
      "source": [
        "import numpy as np\n",
        "import pygame"
      ]
    },
    {
      "cell_type": "code",
      "source": [
        "import numpy as np\n",
        "import pygame\n",
        "\"\"\" в данном реиме игры будет реализована модель \"планерного ружья Госпера\", которое позволяет создавать неограниченный рост и динамику популяции. \n",
        "Чтобы уничтожить данную модель, достаточно встроить 2-3 лишние живые клетки в систему. Для реализации необходимо как минимум 36 ячеек. \n",
        "Существует большое кол-во модернизаций \"ружья\" и данная модель является самой базовой.\"\"\"\n",
        "\n",
        "# создаем поле с живыми клетками по прототипу\n",
        "def init(dimx, dimy):\n",
        "    cells = np.zeros((dimy, dimx))\n",
        "    pattern = np.array([[0, 0, 0, 0, 0, 0, 0, 0, 0, 0, 0, 0, 0, 0, 0, 0, 0, 0, 0, 0, 0, 0, 0, 0, 1, 0, 0, 0, 0, 0, 0, 0, 0, 0, 0, 0, 0, 0, 0],\n",
        "                        [0, 0, 0, 0, 0, 0, 0, 0, 0, 0, 0, 0, 0, 0, 0, 0, 0, 0, 0, 0, 0, 0, 1, 0, 1, 0, 0, 0, 0, 0, 0, 0, 0, 0, 0, 0, 0, 0, 0],\n",
        "                        [0, 0, 0, 0, 0, 0, 0, 0, 0, 0, 0, 0, 1, 1, 0, 0, 0, 0, 0, 0, 1, 1, 0, 0, 0, 0, 0, 0, 0, 0, 0, 0, 0, 0, 1, 1, 0, 0, 0],\n",
        "                        [0, 0, 0, 0, 0, 0, 0, 0, 0, 0, 0, 1, 0, 0, 0, 1, 0, 0, 0, 0, 1, 1, 0, 0, 0, 0, 0, 0, 0, 0, 0, 0, 0, 0, 1, 1, 0, 0, 0],\n",
        "                        [1, 1, 0, 0, 0, 0, 0, 0, 0, 0, 1, 0, 0, 0, 0, 0, 1, 0, 0, 0, 1, 1, 0, 0, 0, 0, 0, 0, 0, 0, 0, 0, 0, 0, 0, 0, 0, 0, 0],\n",
        "                        [1, 1, 0, 0, 0, 0, 0, 0, 0, 0, 1, 0, 0, 0, 1, 0, 1, 1, 0, 0, 0, 0, 1, 0, 1, 0, 0, 0, 0, 0, 0, 0, 0, 0, 0, 0, 0, 0, 0],\n",
        "                        [0, 0, 0, 0, 0, 0, 0, 0, 0, 0, 1, 0, 0, 0, 0, 0, 1, 0, 0, 0, 0, 0, 0, 0, 1, 0, 0, 0, 0, 0, 0, 0, 0, 0, 0, 0, 0, 0, 0],\n",
        "                        [0, 0, 0, 0, 0, 0, 0, 0, 0, 0, 0, 1, 0, 0, 0, 1, 0, 0, 0, 0, 0, 0, 0, 0, 0, 0, 0, 0, 0, 0, 0, 0, 0, 0, 0, 0, 0, 0, 0],\n",
        "                        [0, 0, 0, 0, 0, 0, 0, 0, 0, 0, 0, 0, 1, 1, 0, 0, 0, 0, 0, 0, 0, 0, 0, 0, 0, 0, 0, 0, 0, 0, 0, 0, 0, 0, 0, 0, 0, 0, 0]]);\n",
        "    pos = (3, 3)\n",
        "    cells[pos[0]:pos[0] + pattern.shape[0], pos[1]:pos[1] + pattern.shape[1]] = pattern\n",
        "    return cells\n",
        "\n",
        "\n",
        "# задаем цветовую схему поля, живых и мертвых клеток\n",
        "col_about_to_die = (200, 200, 225)\n",
        "col_alive = (255, 255, 215)\n",
        "col_background = (10, 10, 40)\n",
        "col_grid = (30, 30, 60)\n",
        "\n",
        "\n",
        "# переход к следующей итерации жизни\n",
        "def update(surface, cur, sz):\n",
        "    nxt = np.zeros((cur.shape[0], cur.shape[1]))\n",
        "\n",
        "    for r, c in np.ndindex(cur.shape):\n",
        "        num_alive = np.sum(cur[r - 1:r + 2, c - 1:c + 2]) - cur[r, c]\n",
        "\n",
        "        if cur[r, c] == 1 and num_alive < 2 or num_alive > 3:\n",
        "            col = col_about_to_die\n",
        "        elif (cur[r, c] == 1 and 2 <= num_alive <= 3) or (cur[r, c] == 0 and num_alive == 3):\n",
        "            nxt[r, c] = 1\n",
        "            col = col_alive\n",
        "\n",
        "        col = col if cur[r, c] == 1 else col_background\n",
        "        pygame.draw.rect(surface, col, (c * sz, r * sz, sz - 1, sz - 1))\n",
        "\n",
        "    return nxt\n",
        "\n",
        "\n",
        "# инициализация игры\n",
        "def main(dimx, dimy, cellsize):\n",
        "    pygame.init()\n",
        "    surface = pygame.display.set_mode((dimx * cellsize, dimy * cellsize))\n",
        "    pygame.display.set_caption(\"John Conway's Game of Life\")\n",
        "\n",
        "    cells = init(dimx, dimy)\n",
        "\n",
        "    while True:\n",
        "        for event in pygame.event.get():\n",
        "            if event.type == pygame.QUIT:\n",
        "                pygame.quit()\n",
        "                return\n",
        "\n",
        "        surface.fill(col_grid)\n",
        "        cells = update(surface, cells, cellsize)\n",
        "        pygame.display.update()\n",
        "\n",
        "\n",
        "# непосредственный запуск окна игры\n",
        "if __name__ == \"__main__\":\n",
        "    main(120, 90, 8)"
      ],
      "metadata": {
        "id": "CvkxtnLpi_-q"
      },
      "execution_count": null,
      "outputs": []
    }
  ]
}